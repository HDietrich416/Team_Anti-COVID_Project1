{
 "cells": [
  {
   "cell_type": "code",
   "execution_count": 1,
   "metadata": {},
   "outputs": [],
   "source": [
    "import pandas as pd\n",
    "\n"
   ]
  },
  {
   "cell_type": "code",
   "execution_count": 8,
   "metadata": {},
   "outputs": [
    {
     "data": {
      "text/plain": [
       "[                             0                     1\n",
       " 0                  Total cases         {Total cases}\n",
       " 1                       Active              {Active}\n",
       " 2               Percent active     {Percent active}%\n",
       " 3                    Recovered           {Recovered}\n",
       " 4            Percent recovered  {Percent recovered}%\n",
       " 5                       Deaths              {Deaths}\n",
       " 6               Percent deaths     {Percent deaths}%\n",
       " 7                    New cases           {New cases}\n",
       " 8  People tested per 1 million         {Rate tested}\n",
       " 9             Percent positive   {Positive percent}%,\n",
       " Empty DataFrame\n",
       " Columns: [(Location, Location), (Total cases, Count), (Total cases, Rate*), (Active cases, Count), (Active cases, Rate*), (Recovered, Count), (Deaths, Count), (Deaths, Rate*), (Tested, Count), (Tested, Rate†)]\n",
       " Index: [],\n",
       " Empty DataFrame\n",
       " Columns: [Location, New cases, New deaths, Number of people tested]\n",
       " Index: [],\n",
       " Empty DataFrame\n",
       " Columns: [Date of illness onsetFootnote 2, Newly reported casesFootnote 1, Domestic - Contact with a COVID case, Domestic - Contact with a traveller, Domestic - Unknown, Travelled outside of Canada, Information pending]\n",
       " Index: [],\n",
       " Empty DataFrame\n",
       " Columns: [Date of illness onsetFootnote 2, 0-19, 20-29, 30-39, 40-49, 50-59, 60-69, 70-79, 80+]\n",
       " Index: [],\n",
       " Empty DataFrame\n",
       " Columns: [Date of illness onsetFootnote 2, 0-19, 20-39, 40-59, 60-79, 80+]\n",
       " Index: [],\n",
       " Empty DataFrame\n",
       " Columns: [Age group (years), Number of cases with case reports (proportion), Number of male cases (proportion), Number of female cases (proportion), Number of other cases (proportion)]\n",
       " Index: [],\n",
       " Empty DataFrame\n",
       " Columns: [Province/Territory, Number of patients hospitalized, Number of patients in the ICU, Number of patients who were mechanically vented]\n",
       " Index: [],\n",
       " Empty DataFrame\n",
       " Columns: [Age group (years), Number of cases with case reports (proportion), Number of male cases (proportion), Number of female cases (proportion), Number of other cases (proportion)]\n",
       " Index: [],\n",
       " Empty DataFrame\n",
       " Columns: [Age group (years), Number of cases with case reports (proportion), Number of male cases (proportion), Number of female cases (proportion), Number of other cases (proportion)]\n",
       " Index: [],\n",
       " Empty DataFrame\n",
       " Columns: [Age group (years), Number of cases with case reports (proportion), Number of male cases (proportion), Number of female cases (proportion), Number of other cases (proportion)]\n",
       " Index: []]"
      ]
     },
     "execution_count": 8,
     "metadata": {},
     "output_type": "execute_result"
    }
   ],
   "source": [
    "pd.read_html(\"https://health-infobase.canada.ca/covid-19/epidemiological-summary-covid-19-cases.html\")"
   ]
  },
  {
   "cell_type": "code",
   "execution_count": null,
   "metadata": {},
   "outputs": [],
   "source": []
  },
  {
   "cell_type": "code",
   "execution_count": null,
   "metadata": {},
   "outputs": [],
   "source": []
  }
 ],
 "metadata": {
  "kernelspec": {
   "display_name": "Python 3",
   "language": "python",
   "name": "python3"
  },
  "language_info": {
   "codemirror_mode": {
    "name": "ipython",
    "version": 3
   },
   "file_extension": ".py",
   "mimetype": "text/x-python",
   "name": "python",
   "nbconvert_exporter": "python",
   "pygments_lexer": "ipython3",
   "version": "3.8.3"
  }
 },
 "nbformat": 4,
 "nbformat_minor": 4
}
