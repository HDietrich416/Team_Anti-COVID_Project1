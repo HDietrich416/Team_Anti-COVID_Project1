{
 "cells": [
  {
   "cell_type": "code",
   "execution_count": 2,
   "metadata": {},
   "outputs": [],
   "source": [
    "#Importing the required Dependencies\n",
    "\n",
    "import os\n",
    "import csv\n",
    "import pandas as pd\n",
    "import numpy as np\n",
    "import matplotlib.pyplot as plt"
   ]
  },
  {
   "cell_type": "code",
   "execution_count": 3,
   "metadata": {},
   "outputs": [],
   "source": [
    "#Importing the csv files\n",
    "csvpath= os.path.join(\"confirmed_global.csv\")\n",
    "csv_file = os.path.join(\"confirmed_US.csv\")"
   ]
  },
  {
   "cell_type": "code",
   "execution_count": 4,
   "metadata": {},
   "outputs": [],
   "source": [
    "#Reading the csv file\n",
    "cases_df = pd.read_csv(csvpath, encoding=\"utf-8\" )\n",
    "confirmed_df = pd.read_csv(csv_file, encoding=\"utf-8\")"
   ]
  },
  {
   "cell_type": "code",
   "execution_count": 5,
   "metadata": {},
   "outputs": [],
   "source": [
    "#Picking up the required column from the dataset\n",
    "new_cases_df = cases_df[[\"Country/Region\", \"10/30/20\"]]\n",
    "\n",
    "#Renaming the columns for better understanding\n",
    "renamed_cases = new_cases_df.rename(columns={\"Country/Region\" : \"Country\",\n",
    "                                        \"10/30/20\" : \"Total Cases\"})\n",
    "renamed_cases= renamed_cases.groupby([\"Country\"])\n",
    "\n",
    "#Summing up the total cases and sorting them by descending order to find the top 10 countries with the highest number of COVID cases as of October 2020\n",
    "summary_df = pd.DataFrame({\"Total Cases\" : renamed_cases[\"Total Cases\"].sum()})\n",
    "summary_df = summary_df.sort_values([\"Total Cases\"], ascending= False)\n",
    "top_ten_df = summary_df.head(10)"
   ]
  },
  {
   "cell_type": "code",
   "execution_count": 21,
   "metadata": {},
   "outputs": [
    {
     "data": {
      "image/png": "[encoded data removed]",
      "text/plain": [
       "<Figure size 432x288 with 1 Axes>"
      ]
     },
     "metadata": {
      "needs_background": "light"
     },
     "output_type": "display_data"
    }
   ],
   "source": [
    "#Plotting the top 10 countries with the highest number of case count\n",
    "top_ten_df.plot(kind=\"bar\", color = \"red\", alpha = 0.8, figsize = (6,4))\n",
    "plt.xlabel(\"Country\")\n",
    "plt.ylabel(\"Total Number of Cases\")\n",
    "plt.title(\"Top 10 Countries With Highest Number of COVID Cases\")\n",
    "plt.legend(loc=\"best\")\n",
    "plt.tight_layout()\n",
    "plt.savefig(\"../Output/Top 10 Countries With Highest Number of COVID Cases.png\")\n",
    "plt.show()"
   ]
  },
  {
   "cell_type": "code",
   "execution_count": 9,
   "metadata": {},
   "outputs": [],
   "source": [
    "#Getting Canada case count data from the dataset\n",
    "new_cases_df = cases_df[[\"Country/Region\", \"3/31/20\", \"4/30/20\", \"5/31/20\", \"6/30/20\",\"7/31/20\",\"8/31/20\",\"9/30/20\", \"10/30/20\"]]\n",
    "canada_df= new_cases_df.loc[new_cases_df[\"Country/Region\"] == \"Canada\"]\n",
    "#Grouping the Column by State and getting a count of the Total Number of Cases \n",
    "canada_casecount = canada_df.groupby([\"Country/Region\"]).sum()\n",
    "\n",
    "#Getting US case count data from the dataset\n",
    "new_confirmed_df = confirmed_df[[\"Country_Region\", \"3/31/20\", \"4/30/20\", \"5/31/20\", \"6/30/20\",\"7/31/20\",\"8/31/20\",\"9/30/20\", \"10/30/20\"]]\n",
    "#Grouping the Column by State and getting a count of the Total Number of Cases \n",
    "us_casecount = new_confirmed_df.groupby([\"Country_Region\"]).sum()"
   ]
  },
  {
   "cell_type": "code",
   "execution_count": 12,
   "metadata": {},
   "outputs": [
    {
     "data": {
      "text/html": [
       "<div>\n",
       "<style scoped>\n",
       "    .dataframe tbody tr th:only-of-type {\n",
       "        vertical-align: middle;\n",
       "    }\n",
       "\n",
       "    .dataframe tbody tr th {\n",
       "        vertical-align: top;\n",
       "    }\n",
       "\n",
       "    .dataframe thead th {\n",
       "        text-align: right;\n",
       "    }\n",
       "</style>\n",
       "<table border=\"1\" class=\"dataframe\">\n",
       "  <thead>\n",
       "    <tr style=\"text-align: right;\">\n",
       "      <th></th>\n",
       "      <th>Canada</th>\n",
       "      <th>US</th>\n",
       "    </tr>\n",
       "  </thead>\n",
       "  <tbody>\n",
       "    <tr>\n",
       "      <th>3/31/20</th>\n",
       "      <td>8527</td>\n",
       "      <td>192101</td>\n",
       "    </tr>\n",
       "    <tr>\n",
       "      <th>4/30/20</th>\n",
       "      <td>54457</td>\n",
       "      <td>1076694</td>\n",
       "    </tr>\n",
       "    <tr>\n",
       "      <th>5/31/20</th>\n",
       "      <td>92479</td>\n",
       "      <td>1796670</td>\n",
       "    </tr>\n",
       "    <tr>\n",
       "      <th>6/30/20</th>\n",
       "      <td>106097</td>\n",
       "      <td>2634076</td>\n",
       "    </tr>\n",
       "    <tr>\n",
       "      <th>7/31/20</th>\n",
       "      <td>118281</td>\n",
       "      <td>4560437</td>\n",
       "    </tr>\n",
       "    <tr>\n",
       "      <th>8/31/20</th>\n",
       "      <td>130918</td>\n",
       "      <td>6029571</td>\n",
       "    </tr>\n",
       "    <tr>\n",
       "      <th>9/30/20</th>\n",
       "      <td>161107</td>\n",
       "      <td>7234242</td>\n",
       "    </tr>\n",
       "    <tr>\n",
       "      <th>10/30/20</th>\n",
       "      <td>234939</td>\n",
       "      <td>9044255</td>\n",
       "    </tr>\n",
       "  </tbody>\n",
       "</table>\n",
       "</div>"
      ],
      "text/plain": [
       "          Canada       US\n",
       "3/31/20     8527   192101\n",
       "4/30/20    54457  1076694\n",
       "5/31/20    92479  1796670\n",
       "6/30/20   106097  2634076\n",
       "7/31/20   118281  4560437\n",
       "8/31/20   130918  6029571\n",
       "9/30/20   161107  7234242\n",
       "10/30/20  234939  9044255"
      ]
     },
     "execution_count": 12,
     "metadata": {},
     "output_type": "execute_result"
    }
   ],
   "source": [
    "#Merging the two Dataframes\n",
    "merged_df = pd.concat([canada_casecount, us_casecount])\n",
    "\n",
    "#Transposing the marged_df to get the countires as our columns\n",
    "merged_transpose = merged_df.transpose()\n",
    "merged_transpose"
   ]
  },
  {
   "cell_type": "code",
   "execution_count": 13,
   "metadata": {},
   "outputs": [
    {
     "data": {
      "text/html": [
       "<div>\n",
       "<style scoped>\n",
       "    .dataframe tbody tr th:only-of-type {\n",
       "        vertical-align: middle;\n",
       "    }\n",
       "\n",
       "    .dataframe tbody tr th {\n",
       "        vertical-align: top;\n",
       "    }\n",
       "\n",
       "    .dataframe thead th {\n",
       "        text-align: right;\n",
       "    }\n",
       "</style>\n",
       "<table border=\"1\" class=\"dataframe\">\n",
       "  <thead>\n",
       "    <tr style=\"text-align: right;\">\n",
       "      <th></th>\n",
       "      <th>Month</th>\n",
       "      <th>Canada</th>\n",
       "      <th>US</th>\n",
       "    </tr>\n",
       "  </thead>\n",
       "  <tbody>\n",
       "    <tr>\n",
       "      <th>0</th>\n",
       "      <td>3/31/20</td>\n",
       "      <td>8527</td>\n",
       "      <td>192101</td>\n",
       "    </tr>\n",
       "    <tr>\n",
       "      <th>1</th>\n",
       "      <td>4/30/20</td>\n",
       "      <td>54457</td>\n",
       "      <td>1076694</td>\n",
       "    </tr>\n",
       "    <tr>\n",
       "      <th>2</th>\n",
       "      <td>5/31/20</td>\n",
       "      <td>92479</td>\n",
       "      <td>1796670</td>\n",
       "    </tr>\n",
       "    <tr>\n",
       "      <th>3</th>\n",
       "      <td>6/30/20</td>\n",
       "      <td>106097</td>\n",
       "      <td>2634076</td>\n",
       "    </tr>\n",
       "    <tr>\n",
       "      <th>4</th>\n",
       "      <td>7/31/20</td>\n",
       "      <td>118281</td>\n",
       "      <td>4560437</td>\n",
       "    </tr>\n",
       "    <tr>\n",
       "      <th>5</th>\n",
       "      <td>8/31/20</td>\n",
       "      <td>130918</td>\n",
       "      <td>6029571</td>\n",
       "    </tr>\n",
       "    <tr>\n",
       "      <th>6</th>\n",
       "      <td>9/30/20</td>\n",
       "      <td>161107</td>\n",
       "      <td>7234242</td>\n",
       "    </tr>\n",
       "    <tr>\n",
       "      <th>7</th>\n",
       "      <td>10/30/20</td>\n",
       "      <td>234939</td>\n",
       "      <td>9044255</td>\n",
       "    </tr>\n",
       "  </tbody>\n",
       "</table>\n",
       "</div>"
      ],
      "text/plain": [
       "      Month  Canada       US\n",
       "0   3/31/20    8527   192101\n",
       "1   4/30/20   54457  1076694\n",
       "2   5/31/20   92479  1796670\n",
       "3   6/30/20  106097  2634076\n",
       "4   7/31/20  118281  4560437\n",
       "5   8/31/20  130918  6029571\n",
       "6   9/30/20  161107  7234242\n",
       "7  10/30/20  234939  9044255"
      ]
     },
     "execution_count": 13,
     "metadata": {},
     "output_type": "execute_result"
    }
   ],
   "source": [
    "#Resetting the index and renaming it\n",
    "reset_index = merged_transpose.reset_index()\n",
    "renamed_df = reset_index.rename(columns= {\"index\" : \"Month\"})\n",
    "renamed_df"
   ]
  },
  {
   "cell_type": "code",
   "execution_count": 14,
   "metadata": {},
   "outputs": [],
   "source": [
    "#Total population of Canada and US as of October 2020 from Worldometers.info\n",
    "population_canada = 37858112\n",
    "population_us = 331685117\n",
    "\n",
    "#Calculating the COVID cases for Canada as a percentage of its total population\n",
    "canada_population = ((merged_transpose[\"Canada\"].div(population_canada))*100).to_frame()\n",
    "canada_index = canada_population.reset_index()\n",
    "canada_rename = canada_index.rename(columns={\"index\" : \"Month\"})\n",
    "\n",
    "#Calculating the COVID cases for US as a percentage of its total population\n",
    "us_population = ((merged_transpose[\"US\"].div(population_us))*100).to_frame()\n",
    "us_index = us_population.reset_index()\n",
    "us_rename = us_index.rename(columns={\"index\" : \"Month\"})"
   ]
  },
  {
   "cell_type": "code",
   "execution_count": 15,
   "metadata": {},
   "outputs": [
    {
     "data": {
      "text/html": [
       "<div>\n",
       "<style scoped>\n",
       "    .dataframe tbody tr th:only-of-type {\n",
       "        vertical-align: middle;\n",
       "    }\n",
       "\n",
       "    .dataframe tbody tr th {\n",
       "        vertical-align: top;\n",
       "    }\n",
       "\n",
       "    .dataframe thead th {\n",
       "        text-align: right;\n",
       "    }\n",
       "</style>\n",
       "<table border=\"1\" class=\"dataframe\">\n",
       "  <thead>\n",
       "    <tr style=\"text-align: right;\">\n",
       "      <th></th>\n",
       "      <th>Month</th>\n",
       "      <th>Canada</th>\n",
       "      <th>US</th>\n",
       "    </tr>\n",
       "  </thead>\n",
       "  <tbody>\n",
       "    <tr>\n",
       "      <th>0</th>\n",
       "      <td>3/31/20</td>\n",
       "      <td>0.022524</td>\n",
       "      <td>0.057917</td>\n",
       "    </tr>\n",
       "    <tr>\n",
       "      <th>1</th>\n",
       "      <td>4/30/20</td>\n",
       "      <td>0.143845</td>\n",
       "      <td>0.324613</td>\n",
       "    </tr>\n",
       "    <tr>\n",
       "      <th>2</th>\n",
       "      <td>5/31/20</td>\n",
       "      <td>0.244278</td>\n",
       "      <td>0.541679</td>\n",
       "    </tr>\n",
       "    <tr>\n",
       "      <th>3</th>\n",
       "      <td>6/30/20</td>\n",
       "      <td>0.280249</td>\n",
       "      <td>0.794150</td>\n",
       "    </tr>\n",
       "    <tr>\n",
       "      <th>4</th>\n",
       "      <td>7/31/20</td>\n",
       "      <td>0.312432</td>\n",
       "      <td>1.374930</td>\n",
       "    </tr>\n",
       "    <tr>\n",
       "      <th>5</th>\n",
       "      <td>8/31/20</td>\n",
       "      <td>0.345812</td>\n",
       "      <td>1.817860</td>\n",
       "    </tr>\n",
       "    <tr>\n",
       "      <th>6</th>\n",
       "      <td>9/30/20</td>\n",
       "      <td>0.425555</td>\n",
       "      <td>2.181057</td>\n",
       "    </tr>\n",
       "    <tr>\n",
       "      <th>7</th>\n",
       "      <td>10/30/20</td>\n",
       "      <td>0.620578</td>\n",
       "      <td>2.726759</td>\n",
       "    </tr>\n",
       "  </tbody>\n",
       "</table>\n",
       "</div>"
      ],
      "text/plain": [
       "      Month    Canada        US\n",
       "0   3/31/20  0.022524  0.057917\n",
       "1   4/30/20  0.143845  0.324613\n",
       "2   5/31/20  0.244278  0.541679\n",
       "3   6/30/20  0.280249  0.794150\n",
       "4   7/31/20  0.312432  1.374930\n",
       "5   8/31/20  0.345812  1.817860\n",
       "6   9/30/20  0.425555  2.181057\n",
       "7  10/30/20  0.620578  2.726759"
      ]
     },
     "execution_count": 15,
     "metadata": {},
     "output_type": "execute_result"
    }
   ],
   "source": [
    "#Merging the tow Dataframe for plotting\n",
    "merged_population = pd.merge(canada_rename, us_rename, on=\"Month\")\n",
    "merged_population"
   ]
  },
  {
   "cell_type": "code",
   "execution_count": 22,
   "metadata": {
    "scrolled": false
   },
   "outputs": [
    {
     "data": {
      "image/png": "[encoded data removed]",
      "text/plain": [
       "<Figure size 432x288 with 1 Axes>"
      ]
     },
     "metadata": {
      "needs_background": "light"
     },
     "output_type": "display_data"
    }
   ],
   "source": [
    "#Plot the covid case count from Mar 2020 to October 2020 for Canada and US\n",
    "merged_population.plot()\n",
    "plt.title(\"North America - COVID Case Count\")\n",
    "x_ticks=np.arange(len(merged_population[\"Month\"]))\n",
    "plt.xticks(x_ticks, [\"Mar-20\", \"Apr-20\", \"May-20\", \"Jun-20\", \"Jul-20\", \"Aug-20\", \"Sep-20\", \"Oct-20\"], rotation=45)\n",
    "plt.ylabel(\"Total Number of Cases\")\n",
    "plt.xlabel(\"Month\")\n",
    "plt.legend(title='Legend', bbox_to_anchor=(1, 1), loc='upper left')\n",
    "plt.savefig(\"../Output/North America - COVID Case Count.png\")\n",
    "plt.tight_layout()"
   ]
  },
  {
   "cell_type": "markdown",
   "metadata": {},
   "source": [
    "# Observations\n",
    "* US has the highest number of COVID Cases globally. \n",
    "* California issues the first order in mid_March for citizens to avoid non-essential outdoor activities in mid-March.\n",
    "* Chicago was the next to issue lockdown on March 21st by closing all public facilities.\n",
    "* March 17th Doug Ford declared an emergency and ordered a wide range of closures and other restrictions aiming to limit the spread of the virus\n",
    "* Trudeau announced that new entry restrictions would be implemented shortly after midnight ET on March 18, restricting entry into the country to Canadian citizens and permanent residents and their immediate families.\n",
    "* Canada has seen an increase in the case count from Sept to Oct which marks the beginning of phase 2. Restrictions have been imposed again with limitations on large gatherings indoors and in public places."
   ]
  }
 ],
 "metadata": {
  "kernelspec": {
   "display_name": "Python 3",
   "language": "python",
   "name": "python3"
  },
  "language_info": {
   "codemirror_mode": {
    "name": "ipython",
    "version": 3
   },
   "file_extension": ".py",
   "mimetype": "text/x-python",
   "name": "python",
   "nbconvert_exporter": "python",
   "pygments_lexer": "ipython3",
   "version": "3.8.5"
  }
 },
 "nbformat": 4,
 "nbformat_minor": 4
}
