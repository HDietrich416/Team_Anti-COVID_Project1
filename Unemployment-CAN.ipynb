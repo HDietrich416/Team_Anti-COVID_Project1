{
 "cells": [
  {
   "cell_type": "markdown",
   "metadata": {},
   "source": [
    "# Question:\n",
    "\n",
    "How has COVID-19 impacted unemployment in Canada? In which provinces is unemployment most impacted by COVID-19?"
   ]
  },
  {
   "cell_type": "code",
   "execution_count": 1,
   "metadata": {},
   "outputs": [],
   "source": [
    "#Import dependancies\n",
    "\n",
    "import os\n",
    "import csv\n",
    "import pandas as pd\n",
    "import matplotlib.pyplot as plt\n",
    "import numpy as np\n",
    "from matplotlib.font_manager import FontProperties\n",
    "from scipy import stats"
   ]
  },
  {
   "cell_type": "code",
   "execution_count": 2,
   "metadata": {},
   "outputs": [
    {
     "ename": "FileNotFoundError",
     "evalue": "[Errno 2] File Resources\\Oct 19 Nov 19 StatsCan Unemployment.csv does not exist: 'Resources\\\\Oct 19 Nov 19 StatsCan Unemployment.csv'",
     "output_type": "error",
     "traceback": [
      "\u001b[1;31m---------------------------------------------------------------------------\u001b[0m",
      "\u001b[1;31mFileNotFoundError\u001b[0m                         Traceback (most recent call last)",
      "\u001b[1;32m<ipython-input-2-41b25130f123>\u001b[0m in \u001b[0;36m<module>\u001b[1;34m\u001b[0m\n\u001b[0;32m      3\u001b[0m \u001b[1;33m\u001b[0m\u001b[0m\n\u001b[0;32m      4\u001b[0m \u001b[0moct_nov_19_filepath\u001b[0m \u001b[1;33m=\u001b[0m \u001b[0mos\u001b[0m\u001b[1;33m.\u001b[0m\u001b[0mpath\u001b[0m\u001b[1;33m.\u001b[0m\u001b[0mjoin\u001b[0m\u001b[1;33m(\u001b[0m\u001b[1;34m\"Resources\"\u001b[0m\u001b[1;33m,\u001b[0m\u001b[1;34m\"Oct 19 Nov 19 StatsCan Unemployment.csv\"\u001b[0m\u001b[1;33m)\u001b[0m\u001b[1;33m\u001b[0m\u001b[1;33m\u001b[0m\u001b[0m\n\u001b[1;32m----> 5\u001b[1;33m \u001b[0moct_nov_19\u001b[0m \u001b[1;33m=\u001b[0m \u001b[0mpd\u001b[0m\u001b[1;33m.\u001b[0m\u001b[0mread_csv\u001b[0m\u001b[1;33m(\u001b[0m\u001b[0moct_nov_19_filepath\u001b[0m\u001b[1;33m)\u001b[0m\u001b[1;33m\u001b[0m\u001b[1;33m\u001b[0m\u001b[0m\n\u001b[0m\u001b[0;32m      6\u001b[0m \u001b[0moct_nov_19\u001b[0m \u001b[1;33m=\u001b[0m \u001b[0moct_nov_19\u001b[0m\u001b[1;33m[\u001b[0m\u001b[1;33m[\u001b[0m\u001b[1;34m\"Geography 4\"\u001b[0m\u001b[1;33m,\u001b[0m \u001b[1;34m\"Oct-19\"\u001b[0m\u001b[1;33m,\u001b[0m \u001b[1;34m\"Nov-19\"\u001b[0m\u001b[1;33m]\u001b[0m\u001b[1;33m]\u001b[0m\u001b[1;33m\u001b[0m\u001b[1;33m\u001b[0m\u001b[0m\n\u001b[0;32m      7\u001b[0m \u001b[0moct_nov_19\u001b[0m \u001b[1;33m=\u001b[0m \u001b[0moct_nov_19\u001b[0m\u001b[1;33m.\u001b[0m\u001b[0mdropna\u001b[0m\u001b[1;33m(\u001b[0m\u001b[1;33m)\u001b[0m\u001b[1;33m\u001b[0m\u001b[1;33m\u001b[0m\u001b[0m\n",
      "\u001b[1;32m~\\anaconda3\\lib\\site-packages\\pandas\\io\\parsers.py\u001b[0m in \u001b[0;36mparser_f\u001b[1;34m(filepath_or_buffer, sep, delimiter, header, names, index_col, usecols, squeeze, prefix, mangle_dupe_cols, dtype, engine, converters, true_values, false_values, skipinitialspace, skiprows, skipfooter, nrows, na_values, keep_default_na, na_filter, verbose, skip_blank_lines, parse_dates, infer_datetime_format, keep_date_col, date_parser, dayfirst, cache_dates, iterator, chunksize, compression, thousands, decimal, lineterminator, quotechar, quoting, doublequote, escapechar, comment, encoding, dialect, error_bad_lines, warn_bad_lines, delim_whitespace, low_memory, memory_map, float_precision)\u001b[0m\n\u001b[0;32m    674\u001b[0m         )\n\u001b[0;32m    675\u001b[0m \u001b[1;33m\u001b[0m\u001b[0m\n\u001b[1;32m--> 676\u001b[1;33m         \u001b[1;32mreturn\u001b[0m \u001b[0m_read\u001b[0m\u001b[1;33m(\u001b[0m\u001b[0mfilepath_or_buffer\u001b[0m\u001b[1;33m,\u001b[0m \u001b[0mkwds\u001b[0m\u001b[1;33m)\u001b[0m\u001b[1;33m\u001b[0m\u001b[1;33m\u001b[0m\u001b[0m\n\u001b[0m\u001b[0;32m    677\u001b[0m \u001b[1;33m\u001b[0m\u001b[0m\n\u001b[0;32m    678\u001b[0m     \u001b[0mparser_f\u001b[0m\u001b[1;33m.\u001b[0m\u001b[0m__name__\u001b[0m \u001b[1;33m=\u001b[0m \u001b[0mname\u001b[0m\u001b[1;33m\u001b[0m\u001b[1;33m\u001b[0m\u001b[0m\n",
      "\u001b[1;32m~\\anaconda3\\lib\\site-packages\\pandas\\io\\parsers.py\u001b[0m in \u001b[0;36m_read\u001b[1;34m(filepath_or_buffer, kwds)\u001b[0m\n\u001b[0;32m    446\u001b[0m \u001b[1;33m\u001b[0m\u001b[0m\n\u001b[0;32m    447\u001b[0m     \u001b[1;31m# Create the parser.\u001b[0m\u001b[1;33m\u001b[0m\u001b[1;33m\u001b[0m\u001b[1;33m\u001b[0m\u001b[0m\n\u001b[1;32m--> 448\u001b[1;33m     \u001b[0mparser\u001b[0m \u001b[1;33m=\u001b[0m \u001b[0mTextFileReader\u001b[0m\u001b[1;33m(\u001b[0m\u001b[0mfp_or_buf\u001b[0m\u001b[1;33m,\u001b[0m \u001b[1;33m**\u001b[0m\u001b[0mkwds\u001b[0m\u001b[1;33m)\u001b[0m\u001b[1;33m\u001b[0m\u001b[1;33m\u001b[0m\u001b[0m\n\u001b[0m\u001b[0;32m    449\u001b[0m \u001b[1;33m\u001b[0m\u001b[0m\n\u001b[0;32m    450\u001b[0m     \u001b[1;32mif\u001b[0m \u001b[0mchunksize\u001b[0m \u001b[1;32mor\u001b[0m \u001b[0miterator\u001b[0m\u001b[1;33m:\u001b[0m\u001b[1;33m\u001b[0m\u001b[1;33m\u001b[0m\u001b[0m\n",
      "\u001b[1;32m~\\anaconda3\\lib\\site-packages\\pandas\\io\\parsers.py\u001b[0m in \u001b[0;36m__init__\u001b[1;34m(self, f, engine, **kwds)\u001b[0m\n\u001b[0;32m    878\u001b[0m             \u001b[0mself\u001b[0m\u001b[1;33m.\u001b[0m\u001b[0moptions\u001b[0m\u001b[1;33m[\u001b[0m\u001b[1;34m\"has_index_names\"\u001b[0m\u001b[1;33m]\u001b[0m \u001b[1;33m=\u001b[0m \u001b[0mkwds\u001b[0m\u001b[1;33m[\u001b[0m\u001b[1;34m\"has_index_names\"\u001b[0m\u001b[1;33m]\u001b[0m\u001b[1;33m\u001b[0m\u001b[1;33m\u001b[0m\u001b[0m\n\u001b[0;32m    879\u001b[0m \u001b[1;33m\u001b[0m\u001b[0m\n\u001b[1;32m--> 880\u001b[1;33m         \u001b[0mself\u001b[0m\u001b[1;33m.\u001b[0m\u001b[0m_make_engine\u001b[0m\u001b[1;33m(\u001b[0m\u001b[0mself\u001b[0m\u001b[1;33m.\u001b[0m\u001b[0mengine\u001b[0m\u001b[1;33m)\u001b[0m\u001b[1;33m\u001b[0m\u001b[1;33m\u001b[0m\u001b[0m\n\u001b[0m\u001b[0;32m    881\u001b[0m \u001b[1;33m\u001b[0m\u001b[0m\n\u001b[0;32m    882\u001b[0m     \u001b[1;32mdef\u001b[0m \u001b[0mclose\u001b[0m\u001b[1;33m(\u001b[0m\u001b[0mself\u001b[0m\u001b[1;33m)\u001b[0m\u001b[1;33m:\u001b[0m\u001b[1;33m\u001b[0m\u001b[1;33m\u001b[0m\u001b[0m\n",
      "\u001b[1;32m~\\anaconda3\\lib\\site-packages\\pandas\\io\\parsers.py\u001b[0m in \u001b[0;36m_make_engine\u001b[1;34m(self, engine)\u001b[0m\n\u001b[0;32m   1112\u001b[0m     \u001b[1;32mdef\u001b[0m \u001b[0m_make_engine\u001b[0m\u001b[1;33m(\u001b[0m\u001b[0mself\u001b[0m\u001b[1;33m,\u001b[0m \u001b[0mengine\u001b[0m\u001b[1;33m=\u001b[0m\u001b[1;34m\"c\"\u001b[0m\u001b[1;33m)\u001b[0m\u001b[1;33m:\u001b[0m\u001b[1;33m\u001b[0m\u001b[1;33m\u001b[0m\u001b[0m\n\u001b[0;32m   1113\u001b[0m         \u001b[1;32mif\u001b[0m \u001b[0mengine\u001b[0m \u001b[1;33m==\u001b[0m \u001b[1;34m\"c\"\u001b[0m\u001b[1;33m:\u001b[0m\u001b[1;33m\u001b[0m\u001b[1;33m\u001b[0m\u001b[0m\n\u001b[1;32m-> 1114\u001b[1;33m             \u001b[0mself\u001b[0m\u001b[1;33m.\u001b[0m\u001b[0m_engine\u001b[0m \u001b[1;33m=\u001b[0m \u001b[0mCParserWrapper\u001b[0m\u001b[1;33m(\u001b[0m\u001b[0mself\u001b[0m\u001b[1;33m.\u001b[0m\u001b[0mf\u001b[0m\u001b[1;33m,\u001b[0m \u001b[1;33m**\u001b[0m\u001b[0mself\u001b[0m\u001b[1;33m.\u001b[0m\u001b[0moptions\u001b[0m\u001b[1;33m)\u001b[0m\u001b[1;33m\u001b[0m\u001b[1;33m\u001b[0m\u001b[0m\n\u001b[0m\u001b[0;32m   1115\u001b[0m         \u001b[1;32melse\u001b[0m\u001b[1;33m:\u001b[0m\u001b[1;33m\u001b[0m\u001b[1;33m\u001b[0m\u001b[0m\n\u001b[0;32m   1116\u001b[0m             \u001b[1;32mif\u001b[0m \u001b[0mengine\u001b[0m \u001b[1;33m==\u001b[0m \u001b[1;34m\"python\"\u001b[0m\u001b[1;33m:\u001b[0m\u001b[1;33m\u001b[0m\u001b[1;33m\u001b[0m\u001b[0m\n",
      "\u001b[1;32m~\\anaconda3\\lib\\site-packages\\pandas\\io\\parsers.py\u001b[0m in \u001b[0;36m__init__\u001b[1;34m(self, src, **kwds)\u001b[0m\n\u001b[0;32m   1889\u001b[0m         \u001b[0mkwds\u001b[0m\u001b[1;33m[\u001b[0m\u001b[1;34m\"usecols\"\u001b[0m\u001b[1;33m]\u001b[0m \u001b[1;33m=\u001b[0m \u001b[0mself\u001b[0m\u001b[1;33m.\u001b[0m\u001b[0musecols\u001b[0m\u001b[1;33m\u001b[0m\u001b[1;33m\u001b[0m\u001b[0m\n\u001b[0;32m   1890\u001b[0m \u001b[1;33m\u001b[0m\u001b[0m\n\u001b[1;32m-> 1891\u001b[1;33m         \u001b[0mself\u001b[0m\u001b[1;33m.\u001b[0m\u001b[0m_reader\u001b[0m \u001b[1;33m=\u001b[0m \u001b[0mparsers\u001b[0m\u001b[1;33m.\u001b[0m\u001b[0mTextReader\u001b[0m\u001b[1;33m(\u001b[0m\u001b[0msrc\u001b[0m\u001b[1;33m,\u001b[0m \u001b[1;33m**\u001b[0m\u001b[0mkwds\u001b[0m\u001b[1;33m)\u001b[0m\u001b[1;33m\u001b[0m\u001b[1;33m\u001b[0m\u001b[0m\n\u001b[0m\u001b[0;32m   1892\u001b[0m         \u001b[0mself\u001b[0m\u001b[1;33m.\u001b[0m\u001b[0munnamed_cols\u001b[0m \u001b[1;33m=\u001b[0m \u001b[0mself\u001b[0m\u001b[1;33m.\u001b[0m\u001b[0m_reader\u001b[0m\u001b[1;33m.\u001b[0m\u001b[0munnamed_cols\u001b[0m\u001b[1;33m\u001b[0m\u001b[1;33m\u001b[0m\u001b[0m\n\u001b[0;32m   1893\u001b[0m \u001b[1;33m\u001b[0m\u001b[0m\n",
      "\u001b[1;32mpandas\\_libs\\parsers.pyx\u001b[0m in \u001b[0;36mpandas._libs.parsers.TextReader.__cinit__\u001b[1;34m()\u001b[0m\n",
      "\u001b[1;32mpandas\\_libs\\parsers.pyx\u001b[0m in \u001b[0;36mpandas._libs.parsers.TextReader._setup_parser_source\u001b[1;34m()\u001b[0m\n",
      "\u001b[1;31mFileNotFoundError\u001b[0m: [Errno 2] File Resources\\Oct 19 Nov 19 StatsCan Unemployment.csv does not exist: 'Resources\\\\Oct 19 Nov 19 StatsCan Unemployment.csv'"
     ]
    }
   ],
   "source": [
    "#Stats Canada data files only show 2 months of unemplyment data. The csv data files are cleaned for the specific columns \n",
    "# containing monthly unemployment rates by geography (Canada and provinces). \n",
    "\n",
    "oct_nov_19_filepath = os.path.join(\"Resources\",\"Oct 19 Nov 19 StatsCan Unemployment.csv\")\n",
    "oct_nov_19 = pd.read_csv(oct_nov_19_filepath)\n",
    "oct_nov_19 = oct_nov_19[[\"Geography 4\", \"Oct-19\", \"Nov-19\"]]\n",
    "oct_nov_19 = oct_nov_19.dropna()\n",
    "\n",
    "dec_jan_20_filepath = os.path.join(\"Resources\",\"Dec 19 Jan 20 StatsCan Unemployment.csv\")\n",
    "dec_jan_20 = pd.read_csv(dec_jan_20_filepath)\n",
    "dec_jan_20 = dec_jan_20[[\"Geography 4\", \"Dec-19\", \"Jan-20\"]]\n",
    "dec_jan_20 = dec_jan_20.dropna()\n",
    "\n",
    "feb_mar_20_filepath = os.path.join(\"Resources\", \"Feb 20 Mar 20 StatsCan Unemployment.csv\")\n",
    "feb_mar_20 = pd.read_csv(feb_mar_20_filepath)\n",
    "feb_mar_20 = feb_mar_20[[\"Geography 4\", \"Feb-20\", \"Mar-20\"]]\n",
    "feb_mar_20 = feb_mar_20.dropna()\n",
    "\n",
    "apr_may_20_filepath = os.path.join(\"Resources\",\"Apr 20 May 20 StatsCan Unemployment.csv\")\n",
    "apr_may_20 = pd.read_csv(apr_may_20_filepath)\n",
    "apr_may_20 = apr_may_20[[\"Geography 4\", \"Apr-20\", \"May-20\"]]\n",
    "apr_may_20 = apr_may_20.dropna()\n",
    "\n",
    "jun_jul_20_filepath = os.path.join(\"Resources\",\"Jun 20 Jul 20 StatsCan Unemployment.csv\")\n",
    "jun_jul_20 = pd.read_csv(jun_jul_20_filepath)\n",
    "jun_jul_20 = jun_jul_20[[\"Geography 4\", \"Jun-20\", \"Jul-20\"]]\n",
    "jun_jul_20 = jun_jul_20.dropna()\n",
    "\n",
    "aug_sep_20_filepath = os.path.join(\"Resources\",\"Aug 20 Sep 20 StatsCan Unemployment.csv\")\n",
    "aug_sep_20 = pd.read_csv(aug_sep_20_filepath)\n",
    "aug_sep_20 = aug_sep_20[[\"Geography 4\", \"Aug-20\", \"Sep-20\"]]\n",
    "aug_sep_20 = aug_sep_20.dropna()\n"
   ]
  },
  {
   "cell_type": "code",
   "execution_count": null,
   "metadata": {
    "scrolled": true
   },
   "outputs": [],
   "source": [
    "#Stats Canada data files are merged into one dataframe to show 12 months of unemployment data together by province. \n",
    "\n",
    "merged_can_unemp = pd.merge(oct_nov_19, dec_jan_20, on =\"Geography 4\")\n",
    "merged_can_unemp = pd.merge(merged_can_unemp, feb_mar_20, on =\"Geography 4\")\n",
    "merged_can_unemp = pd.merge(merged_can_unemp, apr_may_20, on =\"Geography 4\")\n",
    "merged_can_unemp = pd.merge(merged_can_unemp, jun_jul_20, on =\"Geography 4\")\n",
    "merged_can_unemp = pd.merge(merged_can_unemp, aug_sep_20, on =\"Geography 4\")\n",
    "\n",
    "\n",
    "prov_can_unemp = merged_can_unemp.drop([0])\n",
    "prov_can_unemp = prov_can_unemp.rename(columns={\"Geography 4\": \"Province\"})\n",
    "prov_can_unemp"
   ]
  },
  {
   "cell_type": "code",
   "execution_count": null,
   "metadata": {},
   "outputs": [],
   "source": [
    "#Transpose data to have Provinces in columns and groupby Month\n",
    "\n",
    "prov_can_unemp = prov_can_unemp.transpose()\n",
    "\n",
    "\n",
    "columns= prov_can_unemp.iloc[0].values\n",
    "prov_can_unemp.columns=columns\n",
    "prov_can_unemp.drop('Province', axis =0, inplace=True)\n",
    "prov_can_unemp.reset_index(inplace =True)\n",
    "prov_can_unemp.rename(columns = {\"index\":\"Month\"}, inplace=True)\n",
    "prov_can_unemp\n"
   ]
  },
  {
   "cell_type": "code",
   "execution_count": null,
   "metadata": {},
   "outputs": [],
   "source": [
    "#Plot the provincial unemployment data (Oct-19 to Sept-20)\n",
    "prov_can_unemp.plot()\n",
    "plt.title(\"Provincial Unemployment by Month\")\n",
    "x_ticks=np.arange(len(prov_can_unemp[\"Month\"]))\n",
    "plt.xticks(x_ticks, [\"Oct-19\", \"Nov-19\", \"Dec-19\", \"Jan-20\", \"Feb-20\", \n",
    "                    \"Mar-20\", \"Apr-20\", \"May-20\", \"Jun-20\", \"Jul-20\", \"Aug-20\", \"Sep-20\"], rotation=45)\n",
    "plt.ylabel(\"Unemployment Rate\")\n",
    "plt.xlabel(\"Month\")\n",
    "fontP = FontProperties()\n",
    "fontP.set_size('small')\n",
    "plt.legend(title='Legend', bbox_to_anchor=(1, 1), loc='upper left', prop=fontP)\n",
    "plt.tight_layout()\n"
   ]
  },
  {
   "cell_type": "code",
   "execution_count": null,
   "metadata": {},
   "outputs": [],
   "source": [
    "#October, November, and December unemployment values are dropped to isolate to the COVID-19 impacts. \n",
    "prov_can_unemp = prov_can_unemp.drop([0,1,2])\n",
    "prov_can_unemp = prov_can_unemp.reset_index()\n",
    "prov_can_unemp = prov_can_unemp.drop(columns= \"index\")\n",
    "prov_can_unemp"
   ]
  },
  {
   "cell_type": "code",
   "execution_count": null,
   "metadata": {},
   "outputs": [],
   "source": [
    "#Plot the revised provincial unemployment data (Jan-20 to Sept-20)\n",
    "\n",
    "prov_can_unemp.plot('Month',['Newfoundland and Labrador','Prince Edward Island', 'Nova Scotia', 'New Brunswick', \n",
    "                             'Quebec','Ontario', \n",
    "                            'Manitoba', 'Saskatchewan', 'Alberta', 'British Columbia'],\n",
    "                    color =['aqua', 'r', 'coral', 'grey', 'fuchsia', 'goldenrod', 'green', 'teal', 'salmon',\n",
    "                            'b', 'orange'])\n",
    "plt.title(\"Provincial Unemployment by Month\")\n",
    "x_ticks=np.arange(len(prov_can_unemp[\"Month\"]))\n",
    "plt.xticks(x_ticks, [\"Jan-20\", \"Feb-20\", \"Mar-20\", \"Apr-20\", \"May-20\", \"Jun-20\", \"Jul-20\", \"Aug-20\", \"Sep-20\"], rotation=45)\n",
    "plt.ylabel(\"Unemployment Rate\")\n",
    "plt.xlabel(\"Month\")\n",
    "fontP = FontProperties()\n",
    "fontP.set_size('small')\n",
    "plt.legend(title='Legend', bbox_to_anchor=(1, 1), loc='upper left', prop=fontP)\n",
    "plt.tight_layout()\n"
   ]
  },
  {
   "cell_type": "markdown",
   "metadata": {},
   "source": [
    "# Observations:\n",
    "\n",
    "* Overall, all provinces experienced a spike in unemployment starting in March (impacts of COVID). \n",
    "* For the most part, provinces have been able to bring unemployment down from the levels seen in the March to May timeframe. \n",
    "* Newfoundland and Labrador experienced the highest unemployment of provinces in Canada during this time frame.\n",
    "* Although it is important to note that N&L had the highest unemployment rate before COVID-19 impacts would have taken affect. \n",
    "* Quebec experienced the highest spike in unemployment around March and April but this has been dramatically reduced. \n",
    "* Quebec unemployment as of September is among the lowest in Canada. "
   ]
  },
  {
   "cell_type": "code",
   "execution_count": null,
   "metadata": {},
   "outputs": [],
   "source": [
    "#Pull Johns Hopkins Data on cumulative COVID-19 confirmed case counts. Isolate for Canada only and exclude cruise ship \n",
    "# (Diamond Princess) cases. Only include case counts on last day of the month to capture the monthly total. \n",
    "\n",
    "can_cases_filepath = os.path.join(\"..\", \"Covid confirmed cases\", \"covid19_confirmed_global.csv\")\n",
    "can_cases = pd.read_csv(can_cases_filepath)\n",
    "can_cases = can_cases.loc[can_cases[\"Country/Region\"]==\"Canada\"]\n",
    "can_cases = can_cases.drop([41,42])\n",
    "can_cases = can_cases[[\"Province/State\", \"1/31/20\", \"2/29/20\", \"3/31/20\",\"4/30/20\", \"5/31/20\", \n",
    "                       \"6/30/20\", \"7/31/20\", \"8/31/20\", \"9/30/20\"]]\n",
    "\n",
    "can_cases = can_cases.rename(columns = {\"Province/State\":\"Province\"})\n",
    "can_cases"
   ]
  },
  {
   "cell_type": "code",
   "execution_count": null,
   "metadata": {},
   "outputs": [],
   "source": [
    "#Transpose data to have Provinces in columns and groupby Month\n",
    "can_cases = can_cases.transpose()\n",
    "\n",
    "\n",
    "columns= can_cases.iloc[0].values\n",
    "can_cases.columns=columns\n",
    "can_cases.drop('Province', axis =0, inplace=True)\n",
    "can_cases.reset_index(inplace =True)\n",
    "can_cases.rename(columns = {\"index\":\"Month\"}, inplace=True)\n",
    "can_cases"
   ]
  },
  {
   "cell_type": "code",
   "execution_count": null,
   "metadata": {},
   "outputs": [],
   "source": [
    "#Plot the provincial COVID-19 case data (Jan-20 to Sept-20)\n",
    "can_cases.plot('Month',['Newfoundland and Labrador','Prince Edward Island', 'Nova Scotia', 'New Brunswick', 'Quebec','Ontario', \n",
    "                            'Manitoba', 'Saskatchewan', 'Alberta', 'British Columbia'],\n",
    "                    color =['aqua', 'r', 'coral', 'grey', 'fuchsia', 'goldenrod', 'green', 'teal', 'salmon',\n",
    "                            'b', 'orange'])\n",
    "plt.title(\"Provincial COVID-19 Cases by Month\")\n",
    "x_ticks=np.arange(len(can_cases[\"Month\"]))\n",
    "plt.xticks(x_ticks, [\"Jan-20\", \"Feb-20\", \n",
    "                    \"Mar-20\", \"Apr-20\", \"May-20\", \"Jun-20\", \"Jul-20\", \"Aug-20\", \"Sep-20\"], rotation=45)\n",
    "plt.ylabel(\"Confirmed COVID-19 Cases\")\n",
    "plt.xlabel(\"Month\")\n",
    "fontP = FontProperties()\n",
    "fontP.set_size('small')\n",
    "plt.legend(title='Legend', bbox_to_anchor=(1, 1), loc='upper left', prop=fontP)\n",
    "plt.tight_layout()"
   ]
  },
  {
   "cell_type": "markdown",
   "metadata": {},
   "source": [
    "# Observations:\n",
    "\n",
    "* Quebec, Ontario, Alberta, and British Columbia have the highest number of COVID-19 confirmed cases (in order of volume). \n",
    "* Quebec and Ontario experienced a sharp spike in cases in the March to May timeframe, which slightly leveled off until August. \n",
    "* Quebec and Ontario experienced a second sharp spike in cases between August and September. "
   ]
  },
  {
   "cell_type": "code",
   "execution_count": null,
   "metadata": {},
   "outputs": [],
   "source": [
    "#Plot unemployment data and case data together. \n",
    "\n",
    "can_cases.plot('Month',['Newfoundland and Labrador','Prince Edward Island', 'Nova Scotia', 'New Brunswick', 'Quebec','Ontario', \n",
    "                            'Manitoba', 'Saskatchewan', 'Alberta', 'British Columbia'],\n",
    "                    color =['aqua', 'r', 'coral', 'grey', 'fuchsia', 'goldenrod', 'green', 'teal', 'salmon',\n",
    "                            'b', 'orange'])\n",
    "plt.title(\"Provincial COVID-19 Cases by Month\")\n",
    "x_ticks=np.arange(len(can_cases[\"Month\"]))\n",
    "plt.xticks(x_ticks, [\"Jan-20\", \"Feb-20\", \n",
    "                    \"Mar-20\", \"Apr-20\", \"May-20\", \"Jun-20\", \"Jul-20\", \"Aug-20\", \"Sep-20\"], rotation=45)\n",
    "plt.ylabel(\"Confirmed COVID-19 Cases\")\n",
    "plt.xlabel(\"Month\")\n",
    "fontP = FontProperties()\n",
    "fontP.set_size('small')\n",
    "plt.legend(title='Legend', bbox_to_anchor=(1, 1), loc='upper left', prop=fontP)\n",
    "plt.tight_layout()\n",
    "plt.savefig('Output/Provincial_COVID_Cases.png')\n",
    "\n",
    "\n",
    "\n",
    "prov_can_unemp.plot('Month',['Newfoundland and Labrador','Prince Edward Island', 'Nova Scotia', 'New Brunswick', \n",
    "                             'Quebec','Ontario', \n",
    "                            'Manitoba', 'Saskatchewan', 'Alberta', 'British Columbia'],\n",
    "                    color =['aqua', 'r', 'coral', 'grey', 'fuchsia', 'goldenrod', 'green', 'teal', 'salmon',\n",
    "                            'b', 'orange'])\n",
    "plt.title(\"Provincial Unemployment by Month\")\n",
    "x_ticks=np.arange(len(prov_can_unemp[\"Month\"]))\n",
    "plt.xticks(x_ticks, [\"Jan-20\", \"Feb-20\", \"Mar-20\", \"Apr-20\", \"May-20\", \"Jun-20\", \"Jul-20\", \"Aug-20\", \"Sep-20\"], rotation=45)\n",
    "plt.ylabel(\"Unemployment Rate\")\n",
    "plt.xlabel(\"Month\")\n",
    "fontP = FontProperties()\n",
    "fontP.set_size('small')\n",
    "plt.legend(title='Legend', bbox_to_anchor=(1, 1), loc='upper left', prop=fontP)\n",
    "plt.tight_layout()\n",
    "plt.savefig('Output/Provincial_Unemployment.png')\n"
   ]
  },
  {
   "cell_type": "markdown",
   "metadata": {},
   "source": [
    "# COVID-19 Cases Observations:\n",
    "\n",
    "* Quebec, Ontario, Alberta, and British Columbia have the highest number of COVID-19 confirmed cases (in order of volume).\n",
    "* Quebec and Ontario experienced a sharp spike in cases in the March to May timeframe, which slightly leveled off until August.\n",
    "* Quebec and Ontario experienced a second sharp spike in cases between August and September.\n",
    "\n",
    "# Unemployment Observations:\n",
    "\n",
    "* Overall, all provinces experienced a spike in unemployment starting in March (impacts of COVID).\n",
    "* For the most part, provinces have been able to bring unemployment down from the levels seen in the March to May timeframe.\n",
    "* Newfoundland and Labrador experienced the highest unemployment of provinces in Canada during this time frame.\n",
    "* Although it is important to note that N&L had the highest unemployment rate before COVID-19 impacts would have taken affect.\n",
    "* Quebec experienced the highest spike in unemployment around March and April but this has been dramatically reduced.\n",
    "* Quebec unemployment as of September is among the lowest in Canada.\n"
   ]
  },
  {
   "cell_type": "code",
   "execution_count": null,
   "metadata": {},
   "outputs": [],
   "source": [
    "#Isolating Ontario and Quebec in the plots. \n",
    "\n",
    "can_cases.plot('Month',[ 'Quebec','Ontario'],\n",
    "                    color =[ 'fuchsia', 'goldenrod'])\n",
    "plt.title(\"COVID-19 Cases by Month - Quebec and Ontario\")\n",
    "x_ticks=np.arange(len(can_cases[\"Month\"]))\n",
    "plt.xticks(x_ticks, [\"Jan-20\", \"Feb-20\", \n",
    "                    \"Mar-20\", \"Apr-20\", \"May-20\", \"Jun-20\", \"Jul-20\", \"Aug-20\", \"Sep-20\"], rotation=45)\n",
    "plt.ylabel(\"Confirmed COVID-19 Cases\")\n",
    "plt.xlabel(\"Month\")\n",
    "fontP = FontProperties()\n",
    "fontP.set_size('small')\n",
    "plt.legend(title='Legend', bbox_to_anchor=(1, 1), loc='upper left', prop=fontP)\n",
    "plt.tight_layout()\n",
    "plt.savefig('Output/Quebec_Ontario_COVID_Cases.png')\n",
    "\n",
    "prov_can_unemp.plot('Month',['Quebec','Ontario'],color =['fuchsia', 'goldenrod'])\n",
    "plt.title(\"Unemployment by Month - Quebec and Ontario\")\n",
    "x_ticks=np.arange(len(prov_can_unemp[\"Month\"]))\n",
    "plt.xticks(x_ticks, [\"Jan-20\", \"Feb-20\", \"Mar-20\", \"Apr-20\", \"May-20\", \"Jun-20\", \"Jul-20\", \"Aug-20\", \"Sep-20\"], rotation=45)\n",
    "plt.ylabel(\"Unemployment Rate\")\n",
    "plt.xlabel(\"Month\")\n",
    "fontP = FontProperties()\n",
    "fontP.set_size('small')\n",
    "plt.legend(title='Legend', bbox_to_anchor=(1, 1), loc='upper left', prop=fontP)\n",
    "plt.tight_layout()\n",
    "plt.savefig('Output/Quebec_Ontario_Unemployment.png')"
   ]
  },
  {
   "cell_type": "markdown",
   "metadata": {},
   "source": [
    "# Observations:\n",
    "\n",
    "* Quebec's unemployment rate was at its peak in April when COVID-19 cases were sharply increasing. \n",
    "* Ontario's rate of COVID-19 cases was lower than Quebec and the province's peak unemployment rate came later than Quebec at May. \n",
    "* Quebec and Ontario were able to flatten their curves between May and August and unemployment rates declined during this time as well. "
   ]
  },
  {
   "cell_type": "code",
   "execution_count": null,
   "metadata": {},
   "outputs": [],
   "source": []
  }
 ],
 "metadata": {
  "kernelspec": {
   "display_name": "Python 3",
   "language": "python",
   "name": "python3"
  },
  "language_info": {
   "codemirror_mode": {
    "name": "ipython",
    "version": 3
   },
   "file_extension": ".py",
   "mimetype": "text/x-python",
   "name": "python",
   "nbconvert_exporter": "python",
   "pygments_lexer": "ipython3",
   "version": "3.8.3"
  }
 },
 "nbformat": 4,
 "nbformat_minor": 4
}
