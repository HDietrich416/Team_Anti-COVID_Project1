{
 "cells": [
  {
   "cell_type": "code",
   "execution_count": 40,
   "metadata": {},
   "outputs": [],
   "source": [
    "import os\n",
    "import csv\n",
    "import pandas as pd\n",
    "import numpy as np\n",
    "import matplotlib.pyplot as plt"
   ]
  },
  {
   "cell_type": "code",
   "execution_count": 2,
   "metadata": {},
   "outputs": [],
   "source": [
    "csvpath= os.path.join(\"confirmed_global.csv\")\n",
    "csv_file = os.path.join(\"confirmed_US.csv\")"
   ]
  },
  {
   "cell_type": "code",
   "execution_count": 19,
   "metadata": {},
   "outputs": [],
   "source": [
    "#Reading the csv file\n",
    "cases_df = pd.read_csv(csvpath, encoding=\"utf-8\" )\n",
    "confirmed_df = pd.read_csv(csv_file, encoding=\"utf-8\")"
   ]
  },
  {
   "cell_type": "code",
   "execution_count": 35,
   "metadata": {},
   "outputs": [
    {
     "data": {
      "text/html": [
       "<div>\n",
       "<style scoped>\n",
       "    .dataframe tbody tr th:only-of-type {\n",
       "        vertical-align: middle;\n",
       "    }\n",
       "\n",
       "    .dataframe tbody tr th {\n",
       "        vertical-align: top;\n",
       "    }\n",
       "\n",
       "    .dataframe thead th {\n",
       "        text-align: right;\n",
       "    }\n",
       "</style>\n",
       "<table border=\"1\" class=\"dataframe\">\n",
       "  <thead>\n",
       "    <tr style=\"text-align: right;\">\n",
       "      <th></th>\n",
       "      <th>3/31/20</th>\n",
       "      <th>4/30/20</th>\n",
       "      <th>5/31/20</th>\n",
       "      <th>6/30/20</th>\n",
       "      <th>7/31/20</th>\n",
       "      <th>8/31/20</th>\n",
       "      <th>9/30/20</th>\n",
       "      <th>10/30/20</th>\n",
       "    </tr>\n",
       "    <tr>\n",
       "      <th>Country/Region</th>\n",
       "      <th></th>\n",
       "      <th></th>\n",
       "      <th></th>\n",
       "      <th></th>\n",
       "      <th></th>\n",
       "      <th></th>\n",
       "      <th></th>\n",
       "      <th></th>\n",
       "    </tr>\n",
       "  </thead>\n",
       "  <tbody>\n",
       "    <tr>\n",
       "      <th>Canada</th>\n",
       "      <td>8527</td>\n",
       "      <td>54457</td>\n",
       "      <td>92479</td>\n",
       "      <td>106097</td>\n",
       "      <td>118281</td>\n",
       "      <td>130918</td>\n",
       "      <td>161107</td>\n",
       "      <td>234939</td>\n",
       "    </tr>\n",
       "  </tbody>\n",
       "</table>\n",
       "</div>"
      ],
      "text/plain": [
       "                3/31/20  4/30/20  5/31/20  6/30/20  7/31/20  8/31/20  9/30/20  \\\n",
       "Country/Region                                                                  \n",
       "Canada             8527    54457    92479   106097   118281   130918   161107   \n",
       "\n",
       "                10/30/20  \n",
       "Country/Region            \n",
       "Canada            234939  "
      ]
     },
     "execution_count": 35,
     "metadata": {},
     "output_type": "execute_result"
    }
   ],
   "source": [
    "#Picking up the required column from the dataset\n",
    "new_cases_df = cases_df[[\"Country/Region\", \"3/31/20\", \"4/30/20\", \"5/31/20\", \"6/30/20\",\"7/31/20\",\"8/31/20\",\"9/30/20\", \"10/30/20\"]]\n",
    "\n",
    "canada_df= new_cases_df.loc[new_cases_df[\"Country/Region\"] == \"Canada\"]\n",
    "\n",
    "canada_casecount = canada_df.groupby([\"Country/Region\"]).sum()\n",
    "#canada_rename = canada_casecount.rename(columns={\"Country/Region\" : \"Country_Region\"})\n",
    "canada_casecount\n"
   ]
  },
  {
   "cell_type": "code",
   "execution_count": 37,
   "metadata": {},
   "outputs": [
    {
     "data": {
      "text/html": [
       "<div>\n",
       "<style scoped>\n",
       "    .dataframe tbody tr th:only-of-type {\n",
       "        vertical-align: middle;\n",
       "    }\n",
       "\n",
       "    .dataframe tbody tr th {\n",
       "        vertical-align: top;\n",
       "    }\n",
       "\n",
       "    .dataframe thead th {\n",
       "        text-align: right;\n",
       "    }\n",
       "</style>\n",
       "<table border=\"1\" class=\"dataframe\">\n",
       "  <thead>\n",
       "    <tr style=\"text-align: right;\">\n",
       "      <th></th>\n",
       "      <th>3/31/20</th>\n",
       "      <th>4/30/20</th>\n",
       "      <th>5/31/20</th>\n",
       "      <th>6/30/20</th>\n",
       "      <th>7/31/20</th>\n",
       "      <th>8/31/20</th>\n",
       "      <th>9/30/20</th>\n",
       "      <th>10/30/20</th>\n",
       "    </tr>\n",
       "    <tr>\n",
       "      <th>Country_Region</th>\n",
       "      <th></th>\n",
       "      <th></th>\n",
       "      <th></th>\n",
       "      <th></th>\n",
       "      <th></th>\n",
       "      <th></th>\n",
       "      <th></th>\n",
       "      <th></th>\n",
       "    </tr>\n",
       "  </thead>\n",
       "  <tbody>\n",
       "    <tr>\n",
       "      <th>US</th>\n",
       "      <td>192101</td>\n",
       "      <td>1076694</td>\n",
       "      <td>1796670</td>\n",
       "      <td>2634076</td>\n",
       "      <td>4560437</td>\n",
       "      <td>6029571</td>\n",
       "      <td>7234242</td>\n",
       "      <td>9044255</td>\n",
       "    </tr>\n",
       "  </tbody>\n",
       "</table>\n",
       "</div>"
      ],
      "text/plain": [
       "                3/31/20  4/30/20  5/31/20  6/30/20  7/31/20  8/31/20  9/30/20  \\\n",
       "Country_Region                                                                  \n",
       "US               192101  1076694  1796670  2634076  4560437  6029571  7234242   \n",
       "\n",
       "                10/30/20  \n",
       "Country_Region            \n",
       "US               9044255  "
      ]
     },
     "execution_count": 37,
     "metadata": {},
     "output_type": "execute_result"
    }
   ],
   "source": [
    "#Picking up the required columns from the data\n",
    "new_confirmed_df = confirmed_df[[\"Country_Region\", \"3/31/20\", \"4/30/20\", \"5/31/20\", \"6/30/20\",\"7/31/20\",\"8/31/20\",\"9/30/20\", \"10/30/20\"]]\n",
    "\n",
    "#Grouping the Column by State and getting a count of the Total Number of Cases \n",
    "us_casecount = new_confirmed_df.groupby([\"Country_Region\"]).sum()\n",
    "us_casecount"
   ]
  },
  {
   "cell_type": "code",
   "execution_count": 38,
   "metadata": {},
   "outputs": [
    {
     "data": {
      "text/html": [
       "<div>\n",
       "<style scoped>\n",
       "    .dataframe tbody tr th:only-of-type {\n",
       "        vertical-align: middle;\n",
       "    }\n",
       "\n",
       "    .dataframe tbody tr th {\n",
       "        vertical-align: top;\n",
       "    }\n",
       "\n",
       "    .dataframe thead th {\n",
       "        text-align: right;\n",
       "    }\n",
       "</style>\n",
       "<table border=\"1\" class=\"dataframe\">\n",
       "  <thead>\n",
       "    <tr style=\"text-align: right;\">\n",
       "      <th></th>\n",
       "      <th>3/31/20</th>\n",
       "      <th>4/30/20</th>\n",
       "      <th>5/31/20</th>\n",
       "      <th>6/30/20</th>\n",
       "      <th>7/31/20</th>\n",
       "      <th>8/31/20</th>\n",
       "      <th>9/30/20</th>\n",
       "      <th>10/30/20</th>\n",
       "    </tr>\n",
       "  </thead>\n",
       "  <tbody>\n",
       "    <tr>\n",
       "      <th>Canada</th>\n",
       "      <td>8527</td>\n",
       "      <td>54457</td>\n",
       "      <td>92479</td>\n",
       "      <td>106097</td>\n",
       "      <td>118281</td>\n",
       "      <td>130918</td>\n",
       "      <td>161107</td>\n",
       "      <td>234939</td>\n",
       "    </tr>\n",
       "    <tr>\n",
       "      <th>US</th>\n",
       "      <td>192101</td>\n",
       "      <td>1076694</td>\n",
       "      <td>1796670</td>\n",
       "      <td>2634076</td>\n",
       "      <td>4560437</td>\n",
       "      <td>6029571</td>\n",
       "      <td>7234242</td>\n",
       "      <td>9044255</td>\n",
       "    </tr>\n",
       "  </tbody>\n",
       "</table>\n",
       "</div>"
      ],
      "text/plain": [
       "        3/31/20  4/30/20  5/31/20  6/30/20  7/31/20  8/31/20  9/30/20  \\\n",
       "Canada     8527    54457    92479   106097   118281   130918   161107   \n",
       "US       192101  1076694  1796670  2634076  4560437  6029571  7234242   \n",
       "\n",
       "        10/30/20  \n",
       "Canada    234939  \n",
       "US       9044255  "
      ]
     },
     "execution_count": 38,
     "metadata": {},
     "output_type": "execute_result"
    }
   ],
   "source": [
    "merged_df = pd.concat([canada_casecount, us_casecount])\n",
    "merged_df"
   ]
  },
  {
   "cell_type": "code",
   "execution_count": 48,
   "metadata": {},
   "outputs": [
    {
     "data": {
      "image/png": "[encoded data removed]",
      "text/plain": [
       "<Figure size 432x288 with 1 Axes>"
      ]
     },
     "metadata": {
      "needs_background": "light"
     },
     "output_type": "display_data"
    }
   ],
   "source": [
    "#Plot the covid case count from Mar 2020 to October 2020\n",
    "merged_transpose.plot()\n",
    "plt.title(\"COVID Case Count\")\n",
    "x_ticks=np.arange(len(merged_transpose[\"Canada\"]))\n",
    "plt.xticks(x_ticks, [\"Oct-20\", \"Sep-20\", \"Aug-20\", \"Jul-20\", \"Jun-20\", \"May-20\", \"Apr-20\", \"Mar-20\"], rotation=45)\n",
    "plt.ylabel(\"Total Number of Cases\")\n",
    "plt.xlabel(\"Month\")\n",
    "plt.legend(title='Legend', bbox_to_anchor=(1, 1), loc='upper left')\n",
    "plt.tight_layout()"
   ]
  },
  {
   "cell_type": "code",
   "execution_count": null,
   "metadata": {},
   "outputs": [],
   "source": []
  }
 ],
 "metadata": {
  "kernelspec": {
   "display_name": "Python 3",
   "language": "python",
   "name": "python3"
  },
  "language_info": {
   "codemirror_mode": {
    "name": "ipython",
    "version": 3
   },
   "file_extension": ".py",
   "mimetype": "text/x-python",
   "name": "python",
   "nbconvert_exporter": "python",
   "pygments_lexer": "ipython3",
   "version": "3.8.5"
  }
 },
 "nbformat": 4,
 "nbformat_minor": 4
}
